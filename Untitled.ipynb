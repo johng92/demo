{
 "cells": [
  {
   "cell_type": "code",
   "execution_count": 1,
   "id": "aedfbaaf",
   "metadata": {},
   "outputs": [
    {
     "name": "stdout",
     "output_type": "stream",
     "text": [
      "john hembrom\n"
     ]
    }
   ],
   "source": [
    "print(\"john hembrom\")"
   ]
  },
  {
   "cell_type": "code",
   "execution_count": null,
   "id": "5b1ce14a",
   "metadata": {},
   "outputs": [],
   "source": []
  }
 ],
 "metadata": {
  "kernelspec": {
   "display_name": "Python 3 (ipykernel)",
   "language": "python",
   "name": "python3"
  },
  "language_info": {
   "codemirror_mode": {
    "name": "ipython",
    "version": 3
   },
   "file_extension": ".py",
   "mimetype": "text/x-python",
   "name": "python",
   "nbconvert_exporter": "python",
   "pygments_lexer": "ipython3",
   "version": "3.9.12"
  }
 },
 "nbformat": 4,
 "nbformat_minor": 5
}
